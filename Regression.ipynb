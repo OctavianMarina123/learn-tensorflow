{
 "cells": [
  {
   "cell_type": "markdown",
   "source": [
    "# Regression"
   ],
   "metadata": {
    "collapsed": false
   },
   "id": "b3d00d2f940a3d4c"
  },
  {
   "cell_type": "code",
   "outputs": [
    {
     "data": {
      "text/plain": "(array([ 1,  3,  5,  7,  9, 11, 13, 15]),\n array([ 3,  5,  7,  9, 11, 13, 15, 17]))"
     },
     "execution_count": 6,
     "metadata": {},
     "output_type": "execute_result"
    }
   ],
   "source": [
    "import numpy as np\n",
    "import matplotlib.pyplot as plt \n",
    "\n",
    "X = np.array([1,3,5,7,9,11,13,15])\n",
    "y = X+2\n",
    "X,y"
   ],
   "metadata": {
    "collapsed": false,
    "ExecuteTime": {
     "end_time": "2024-11-28T14:33:38.609827Z",
     "start_time": "2024-11-28T14:33:38.603420Z"
    }
   },
   "id": "a260c820b078429e",
   "execution_count": 6
  },
  {
   "cell_type": "code",
   "outputs": [
    {
     "data": {
      "text/plain": "((8,), (8,))"
     },
     "execution_count": 7,
     "metadata": {},
     "output_type": "execute_result"
    }
   ],
   "source": [
    "X.shape, y.shape"
   ],
   "metadata": {
    "collapsed": false,
    "ExecuteTime": {
     "end_time": "2024-11-28T14:33:42.562609Z",
     "start_time": "2024-11-28T14:33:42.559783Z"
    }
   },
   "id": "7b3900714f62bac7",
   "execution_count": 7
  },
  {
   "cell_type": "code",
   "outputs": [
    {
     "data": {
      "text/plain": "<matplotlib.collections.PathCollection at 0x1198c1ee0>"
     },
     "execution_count": 8,
     "metadata": {},
     "output_type": "execute_result"
    },
    {
     "data": {
      "text/plain": "<Figure size 640x480 with 1 Axes>",
      "image/png": "[encoded data removed]"
     },
     "metadata": {},
     "output_type": "display_data"
    }
   ],
   "source": [
    "plt.scatter(a,b)"
   ],
   "metadata": {
    "collapsed": false,
    "ExecuteTime": {
     "end_time": "2024-11-28T14:33:43.533346Z",
     "start_time": "2024-11-28T14:33:43.460514Z"
    }
   },
   "id": "274a048ba0b74cb1",
   "execution_count": 8
  },
  {
   "cell_type": "markdown",
   "source": [
    "## Introduction to Tensorflow\n",
    "\n",
    "Reconstituim modelul echivalent cu y = w*x + b\n",
    "\n",
    "Loss: Minimiza MAE pentru a face predictiile mai apropiate de valorile reale\n",
    "Optimizer: Algoritm de optimizare care actualizeaza greutatile modelului \n",
    "Metrics: Masoara performanta in timpul antrenamentului\n",
    "\n",
    "tf.keras.layers.Dense(1) reprezinta stratul de output. De asemenea este un exemplu de <b>Offline Learning</b>\n"
   ],
   "metadata": {
    "collapsed": false
   },
   "id": "ab2d658397a720b9"
  },
  {
   "cell_type": "code",
   "outputs": [
    {
     "name": "stderr",
     "output_type": "stream",
     "text": [
      "WARNING:absl:At this time, the v2.11+ optimizer `tf.keras.optimizers.SGD` runs slowly on M1/M2 Macs, please use the legacy Keras optimizer instead, located at `tf.keras.optimizers.legacy.SGD`.\n",
      "WARNING:absl:There is a known slowdown when using v2.11+ Keras optimizers on M1/M2 Macs. Falling back to the legacy Keras optimizer, i.e., `tf.keras.optimizers.legacy.SGD`.\n"
     ]
    },
    {
     "name": "stdout",
     "output_type": "stream",
     "text": [
      "Epoch 1/5\n"
     ]
    },
    {
     "name": "stderr",
     "output_type": "stream",
     "text": [
      "2024-11-28 16:34:41.065949: W tensorflow/tsl/platform/profile_utils/cpu_utils.cc:128] Failed to get CPU frequency: 0 Hz\n"
     ]
    },
    {
     "name": "stdout",
     "output_type": "stream",
     "text": [
      "1/1 [==============================] - 0s 123ms/step - loss: 1.5935 - mae: 1.5935\n",
      "Epoch 2/5\n",
      "1/1 [==============================] - 0s 2ms/step - loss: 0.9435 - mae: 0.9435\n",
      "Epoch 3/5\n",
      "1/1 [==============================] - 0s 2ms/step - loss: 0.8639 - mae: 0.8639\n",
      "Epoch 4/5\n",
      "1/1 [==============================] - 0s 2ms/step - loss: 0.8327 - mae: 0.8327\n",
      "Epoch 5/5\n",
      "1/1 [==============================] - 0s 2ms/step - loss: 0.8117 - mae: 0.8117\n"
     ]
    },
    {
     "data": {
      "text/plain": "<keras.callbacks.History at 0x306f152e0>"
     },
     "execution_count": 10,
     "metadata": {},
     "output_type": "execute_result"
    }
   ],
   "source": [
    "import tensorflow as tf\n",
    "\n",
    "tf.random.set_seed(42)\n",
    "\n",
    "model = tf.keras.Sequential([\n",
    "    tf.keras.layers.Dense(1)\n",
    "])\n",
    "\n",
    "model.compile(loss=tf.keras.losses.mae,\n",
    "              optimizer=tf.keras.optimizers.SGD(),\n",
    "              metrics=[\"mae\"])\n",
    "\n",
    "model.fit(tf.expand_dims(X, axis=-1), y, epochs=5)"
   ],
   "metadata": {
    "collapsed": false,
    "ExecuteTime": {
     "end_time": "2024-11-28T14:34:41.245939Z",
     "start_time": "2024-11-28T14:34:41.007761Z"
    }
   },
   "id": "3a4ece47934a946c",
   "execution_count": 10
  },
  {
   "cell_type": "code",
   "outputs": [
    {
     "name": "stdout",
     "output_type": "stream",
     "text": [
      "1/1 [==============================] - 0s 34ms/step\n"
     ]
    },
    {
     "data": {
      "text/plain": "array([[20.188839]], dtype=float32)"
     },
     "execution_count": 11,
     "metadata": {},
     "output_type": "execute_result"
    }
   ],
   "source": [
    "model.predict([17.0])"
   ],
   "metadata": {
    "collapsed": false,
    "ExecuteTime": {
     "end_time": "2024-11-28T14:37:54.730739Z",
     "start_time": "2024-11-28T14:37:54.679483Z"
    }
   },
   "id": "167b13d685aa1ead",
   "execution_count": 11
  },
  {
   "cell_type": "markdown",
   "source": [
    "## Create test and train data + evaluation"
   ],
   "metadata": {
    "collapsed": false
   },
   "id": "d55944c3a2d23f8c"
  },
  {
   "cell_type": "code",
   "outputs": [
    {
     "data": {
      "text/plain": "(array([-100,  -96,  -92,  -88,  -84,  -80,  -76,  -72,  -68,  -64,  -60,\n         -56,  -52,  -48,  -44,  -40,  -36,  -32,  -28,  -24,  -20,  -16,\n         -12,   -8,   -4,    0,    4,    8,   12,   16,   20,   24,   28,\n          32,   36,   40,   44,   48,   52,   56,   60,   64,   68,   72,\n          76,   80,   84,   88,   92,   96]),\n array([-90, -86, -82, -78, -74, -70, -66, -62, -58, -54, -50, -46, -42,\n        -38, -34, -30, -26, -22, -18, -14, -10,  -6,  -2,   2,   6,  10,\n         14,  18,  22,  26,  30,  34,  38,  42,  46,  50,  54,  58,  62,\n         66,  70,  74,  78,  82,  86,  90,  94,  98, 102, 106]))"
     },
     "execution_count": 13,
     "metadata": {},
     "output_type": "execute_result"
    }
   ],
   "source": [
    "X = np.arange(-100,100,4)\n",
    "y = X+10\n",
    "X,y"
   ],
   "metadata": {
    "collapsed": false,
    "ExecuteTime": {
     "end_time": "2024-11-28T14:40:37.949907Z",
     "start_time": "2024-11-28T14:40:37.946292Z"
    }
   },
   "id": "cd56b01c29328a6a",
   "execution_count": 13
  },
  {
   "cell_type": "code",
   "outputs": [
    {
     "data": {
      "text/plain": "(True, True)"
     },
     "execution_count": 14,
     "metadata": {},
     "output_type": "execute_result"
    }
   ],
   "source": [
    "#Split data\n",
    "X_train = X[:40]\n",
    "X_test = X[40:]\n",
    "\n",
    "y_train = y[:40]\n",
    "y_test = y[40:]\n",
    "\n",
    "len(X_train) == len(y_train), len(X_test) == len(y_test)"
   ],
   "metadata": {
    "collapsed": false,
    "ExecuteTime": {
     "end_time": "2024-11-28T14:42:25.249357Z",
     "start_time": "2024-11-28T14:42:25.245746Z"
    }
   },
   "id": "6fabd3f5336b97f8",
   "execution_count": 14
  },
  {
   "cell_type": "code",
   "outputs": [
    {
     "data": {
      "text/plain": "<matplotlib.legend.Legend at 0x30726c730>"
     },
     "execution_count": 18,
     "metadata": {},
     "output_type": "execute_result"
    },
    {
     "data": {
      "text/plain": "<Figure size 1000x700 with 1 Axes>",
      "image/png": "[encoded data removed]"
     },
     "metadata": {},
     "output_type": "display_data"
    }
   ],
   "source": [
    "#plot the data\n",
    "plt.figure(figsize=(10,7))\n",
    "\n",
    "plt.scatter(X_train,y_train,c=\"blue\",label=\"Train Data\")\n",
    "plt.scatter(X_test,y_test,c=\"green\",label=\"Test Data\")\n",
    "plt.legend()"
   ],
   "metadata": {
    "collapsed": false,
    "ExecuteTime": {
     "end_time": "2024-11-28T14:44:40.532050Z",
     "start_time": "2024-11-28T14:44:40.445511Z"
    }
   },
   "id": "e92d3e968ef4fc96",
   "execution_count": 18
  },
  {
   "cell_type": "code",
   "outputs": [
    {
     "name": "stderr",
     "output_type": "stream",
     "text": [
      "WARNING:absl:At this time, the v2.11+ optimizer `tf.keras.optimizers.SGD` runs slowly on M1/M2 Macs, please use the legacy Keras optimizer instead, located at `tf.keras.optimizers.legacy.SGD`.\n",
      "WARNING:absl:There is a known slowdown when using v2.11+ Keras optimizers on M1/M2 Macs. Falling back to the legacy Keras optimizer, i.e., `tf.keras.optimizers.legacy.SGD`.\n"
     ]
    },
    {
     "name": "stdout",
     "output_type": "stream",
     "text": [
      "Epoch 1/200\n",
      "2/2 [==============================] - 0s 2ms/step - loss: 9.8490 - mae: 9.8490\n",
      "Epoch 2/200\n",
      "2/2 [==============================] - 0s 1ms/step - loss: 13.2367 - mae: 13.2367\n",
      "Epoch 3/200\n",
      "2/2 [==============================] - 0s 1ms/step - loss: 19.4002 - mae: 19.4002\n",
      "Epoch 4/200\n",
      "2/2 [==============================] - 0s 1ms/step - loss: 10.1926 - mae: 10.1926\n",
      "Epoch 5/200\n",
      "2/2 [==============================] - 0s 1ms/step - loss: 12.3182 - mae: 12.3182\n",
      "Epoch 6/200\n",
      "2/2 [==============================] - 0s 1ms/step - loss: 12.9645 - mae: 12.9645\n",
      "Epoch 7/200\n",
      "2/2 [==============================] - 0s 1ms/step - loss: 10.0048 - mae: 10.0048\n",
      "Epoch 8/200\n",
      "2/2 [==============================] - 0s 1ms/step - loss: 11.9292 - mae: 11.9292\n",
      "Epoch 9/200\n",
      "2/2 [==============================] - 0s 1ms/step - loss: 12.6749 - mae: 12.6749\n",
      "Epoch 10/200\n",
      "2/2 [==============================] - 0s 2ms/step - loss: 9.9842 - mae: 9.9842\n",
      "Epoch 11/200\n",
      "2/2 [==============================] - 0s 1ms/step - loss: 9.9561 - mae: 9.9561\n",
      "Epoch 12/200\n",
      "2/2 [==============================] - 0s 1ms/step - loss: 9.8973 - mae: 9.8973\n",
      "Epoch 13/200\n",
      "2/2 [==============================] - 0s 2ms/step - loss: 9.7354 - mae: 9.7354\n",
      "Epoch 14/200\n",
      "2/2 [==============================] - 0s 1ms/step - loss: 10.5361 - mae: 10.5361\n",
      "Epoch 15/200\n",
      "2/2 [==============================] - 0s 2ms/step - loss: 13.7806 - mae: 13.7806\n",
      "Epoch 16/200\n",
      "2/2 [==============================] - 0s 1ms/step - loss: 12.5753 - mae: 12.5753\n",
      "Epoch 17/200\n",
      "2/2 [==============================] - 0s 1ms/step - loss: 10.2056 - mae: 10.2056\n",
      "Epoch 18/200\n",
      "2/2 [==============================] - 0s 1ms/step - loss: 10.1192 - mae: 10.1192\n",
      "Epoch 19/200\n",
      "2/2 [==============================] - 0s 2ms/step - loss: 9.9030 - mae: 9.9030\n",
      "Epoch 20/200\n",
      "2/2 [==============================] - 0s 1ms/step - loss: 12.7084 - mae: 12.7084\n",
      "Epoch 21/200\n",
      "2/2 [==============================] - 0s 1ms/step - loss: 12.9442 - mae: 12.9442\n",
      "Epoch 22/200\n",
      "2/2 [==============================] - 0s 1ms/step - loss: 9.5544 - mae: 9.5544\n",
      "Epoch 23/200\n",
      "2/2 [==============================] - 0s 1ms/step - loss: 9.3757 - mae: 9.3757\n",
      "Epoch 24/200\n",
      "2/2 [==============================] - 0s 1ms/step - loss: 9.6936 - mae: 9.6936\n",
      "Epoch 25/200\n",
      "2/2 [==============================] - 0s 1ms/step - loss: 9.5900 - mae: 9.5900\n",
      "Epoch 26/200\n",
      "2/2 [==============================] - 0s 1ms/step - loss: 9.4782 - mae: 9.4782\n",
      "Epoch 27/200\n",
      "2/2 [==============================] - 0s 1ms/step - loss: 9.7016 - mae: 9.7016\n",
      "Epoch 28/200\n",
      "2/2 [==============================] - 0s 1ms/step - loss: 9.5758 - mae: 9.5758\n",
      "Epoch 29/200\n",
      "2/2 [==============================] - 0s 1ms/step - loss: 9.4622 - mae: 9.4622\n",
      "Epoch 30/200\n",
      "2/2 [==============================] - 0s 1ms/step - loss: 10.0146 - mae: 10.0146\n",
      "Epoch 31/200\n",
      "2/2 [==============================] - 0s 1ms/step - loss: 13.3914 - mae: 13.3914\n",
      "Epoch 32/200\n",
      "2/2 [==============================] - 0s 1ms/step - loss: 9.6221 - mae: 9.6221\n",
      "Epoch 33/200\n",
      "2/2 [==============================] - 0s 2ms/step - loss: 9.5552 - mae: 9.5552\n",
      "Epoch 34/200\n",
      "2/2 [==============================] - 0s 1ms/step - loss: 9.8808 - mae: 9.8808\n",
      "Epoch 35/200\n",
      "2/2 [==============================] - 0s 1ms/step - loss: 10.1442 - mae: 10.1442\n",
      "Epoch 36/200\n",
      "2/2 [==============================] - 0s 1ms/step - loss: 9.4957 - mae: 9.4957\n",
      "Epoch 37/200\n",
      "2/2 [==============================] - 0s 1ms/step - loss: 9.4085 - mae: 9.4085\n",
      "Epoch 38/200\n",
      "2/2 [==============================] - 0s 1ms/step - loss: 9.6098 - mae: 9.6098\n",
      "Epoch 39/200\n",
      "2/2 [==============================] - 0s 1ms/step - loss: 10.3539 - mae: 10.3539\n",
      "Epoch 40/200\n",
      "2/2 [==============================] - 0s 1ms/step - loss: 11.5514 - mae: 11.5514\n",
      "Epoch 41/200\n",
      "2/2 [==============================] - 0s 1ms/step - loss: 9.7287 - mae: 9.7287\n",
      "Epoch 42/200\n",
      "2/2 [==============================] - 0s 1ms/step - loss: 9.3144 - mae: 9.3144\n",
      "Epoch 43/200\n",
      "2/2 [==============================] - 0s 1ms/step - loss: 9.1264 - mae: 9.1264\n",
      "Epoch 44/200\n",
      "2/2 [==============================] - 0s 2ms/step - loss: 9.5155 - mae: 9.5155\n",
      "Epoch 45/200\n",
      "2/2 [==============================] - 0s 1ms/step - loss: 9.6490 - mae: 9.6490\n",
      "Epoch 46/200\n",
      "2/2 [==============================] - 0s 1ms/step - loss: 9.1419 - mae: 9.1419\n",
      "Epoch 47/200\n",
      "2/2 [==============================] - 0s 1ms/step - loss: 9.0480 - mae: 9.0480\n",
      "Epoch 48/200\n",
      "2/2 [==============================] - 0s 1ms/step - loss: 8.7480 - mae: 8.7480\n",
      "Epoch 49/200\n",
      "2/2 [==============================] - 0s 1ms/step - loss: 10.8261 - mae: 10.8261\n",
      "Epoch 50/200\n",
      "2/2 [==============================] - 0s 1ms/step - loss: 8.8497 - mae: 8.8497\n",
      "Epoch 51/200\n",
      "2/2 [==============================] - 0s 1ms/step - loss: 10.3088 - mae: 10.3088\n",
      "Epoch 52/200\n",
      "2/2 [==============================] - 0s 1ms/step - loss: 14.8171 - mae: 14.8171\n",
      "Epoch 53/200\n",
      "2/2 [==============================] - 0s 1ms/step - loss: 8.6911 - mae: 8.6911\n",
      "Epoch 54/200\n",
      "2/2 [==============================] - 0s 1ms/step - loss: 9.4125 - mae: 9.4125\n",
      "Epoch 55/200\n",
      "2/2 [==============================] - 0s 1ms/step - loss: 9.8293 - mae: 9.8293\n",
      "Epoch 56/200\n",
      "2/2 [==============================] - 0s 1ms/step - loss: 12.1582 - mae: 12.1582\n",
      "Epoch 57/200\n",
      "2/2 [==============================] - 0s 1ms/step - loss: 16.1644 - mae: 16.1644\n",
      "Epoch 58/200\n",
      "2/2 [==============================] - 0s 1ms/step - loss: 14.9982 - mae: 14.9982\n",
      "Epoch 59/200\n",
      "2/2 [==============================] - 0s 1ms/step - loss: 15.3596 - mae: 15.3596\n",
      "Epoch 60/200\n",
      "2/2 [==============================] - 0s 1ms/step - loss: 12.5162 - mae: 12.5162\n",
      "Epoch 61/200\n",
      "2/2 [==============================] - 0s 2ms/step - loss: 13.0303 - mae: 13.0303\n",
      "Epoch 62/200\n",
      "2/2 [==============================] - 0s 1ms/step - loss: 10.2193 - mae: 10.2193\n",
      "Epoch 63/200\n",
      "2/2 [==============================] - 0s 1ms/step - loss: 12.0021 - mae: 12.0021\n",
      "Epoch 64/200\n",
      "2/2 [==============================] - 0s 1ms/step - loss: 9.5058 - mae: 9.5058\n",
      "Epoch 65/200\n",
      "2/2 [==============================] - 0s 1ms/step - loss: 8.9802 - mae: 8.9802\n",
      "Epoch 66/200\n",
      "2/2 [==============================] - 0s 1ms/step - loss: 8.9694 - mae: 8.9694\n",
      "Epoch 67/200\n",
      "2/2 [==============================] - 0s 1ms/step - loss: 9.0896 - mae: 9.0896\n",
      "Epoch 68/200\n",
      "2/2 [==============================] - 0s 1ms/step - loss: 9.2014 - mae: 9.2014\n",
      "Epoch 69/200\n",
      "2/2 [==============================] - 0s 2ms/step - loss: 9.1967 - mae: 9.1967\n",
      "Epoch 70/200\n",
      "2/2 [==============================] - 0s 1ms/step - loss: 9.4566 - mae: 9.4566\n",
      "Epoch 71/200\n",
      "2/2 [==============================] - 0s 1ms/step - loss: 8.9018 - mae: 8.9018\n",
      "Epoch 72/200\n",
      "2/2 [==============================] - 0s 1ms/step - loss: 9.9814 - mae: 9.9814\n",
      "Epoch 73/200\n",
      "2/2 [==============================] - 0s 1ms/step - loss: 11.9213 - mae: 11.9213\n",
      "Epoch 74/200\n",
      "2/2 [==============================] - 0s 1ms/step - loss: 8.5724 - mae: 8.5724\n",
      "Epoch 75/200\n",
      "2/2 [==============================] - 0s 1ms/step - loss: 8.7652 - mae: 8.7652\n",
      "Epoch 76/200\n",
      "2/2 [==============================] - 0s 1ms/step - loss: 8.8108 - mae: 8.8108\n",
      "Epoch 77/200\n",
      "2/2 [==============================] - 0s 1ms/step - loss: 8.1747 - mae: 8.1747\n",
      "Epoch 78/200\n",
      "2/2 [==============================] - 0s 1ms/step - loss: 11.2208 - mae: 11.2208\n",
      "Epoch 79/200\n",
      "2/2 [==============================] - 0s 1ms/step - loss: 9.5601 - mae: 9.5601\n",
      "Epoch 80/200\n",
      "2/2 [==============================] - 0s 1ms/step - loss: 13.1687 - mae: 13.1687\n",
      "Epoch 81/200\n",
      "2/2 [==============================] - 0s 2ms/step - loss: 14.3151 - mae: 14.3151\n",
      "Epoch 82/200\n",
      "2/2 [==============================] - 0s 1ms/step - loss: 16.2439 - mae: 16.2439\n",
      "Epoch 83/200\n",
      "2/2 [==============================] - 0s 2ms/step - loss: 9.5430 - mae: 9.5430\n",
      "Epoch 84/200\n",
      "2/2 [==============================] - 0s 1ms/step - loss: 8.6388 - mae: 8.6388\n",
      "Epoch 85/200\n",
      "2/2 [==============================] - 0s 1ms/step - loss: 8.7428 - mae: 8.7428\n",
      "Epoch 86/200\n",
      "2/2 [==============================] - 0s 2ms/step - loss: 9.0110 - mae: 9.0110\n",
      "Epoch 87/200\n",
      "2/2 [==============================] - 0s 1ms/step - loss: 9.1670 - mae: 9.1670\n",
      "Epoch 88/200\n",
      "2/2 [==============================] - 0s 1ms/step - loss: 8.7152 - mae: 8.7152\n",
      "Epoch 89/200\n",
      "2/2 [==============================] - 0s 1ms/step - loss: 8.8583 - mae: 8.8583\n",
      "Epoch 90/200\n",
      "2/2 [==============================] - 0s 1ms/step - loss: 8.6678 - mae: 8.6678\n",
      "Epoch 91/200\n",
      "2/2 [==============================] - 0s 1ms/step - loss: 8.7177 - mae: 8.7177\n",
      "Epoch 92/200\n",
      "2/2 [==============================] - 0s 1ms/step - loss: 8.5844 - mae: 8.5844\n",
      "Epoch 93/200\n",
      "2/2 [==============================] - 0s 1ms/step - loss: 9.1762 - mae: 9.1762\n",
      "Epoch 94/200\n",
      "2/2 [==============================] - 0s 1ms/step - loss: 9.9032 - mae: 9.9032\n",
      "Epoch 95/200\n",
      "2/2 [==============================] - 0s 1ms/step - loss: 12.8136 - mae: 12.8136\n",
      "Epoch 96/200\n",
      "2/2 [==============================] - 0s 1ms/step - loss: 9.1490 - mae: 9.1490\n",
      "Epoch 97/200\n",
      "2/2 [==============================] - 0s 1ms/step - loss: 10.5365 - mae: 10.5365\n",
      "Epoch 98/200\n",
      "2/2 [==============================] - 0s 1ms/step - loss: 14.7397 - mae: 14.7397\n",
      "Epoch 99/200\n",
      "2/2 [==============================] - 0s 1ms/step - loss: 10.8514 - mae: 10.8514\n",
      "Epoch 100/200\n",
      "2/2 [==============================] - 0s 1ms/step - loss: 14.8929 - mae: 14.8929\n",
      "Epoch 101/200\n",
      "2/2 [==============================] - 0s 2ms/step - loss: 9.0057 - mae: 9.0057\n",
      "Epoch 102/200\n",
      "2/2 [==============================] - 0s 1ms/step - loss: 8.5387 - mae: 8.5387\n",
      "Epoch 103/200\n",
      "2/2 [==============================] - 0s 941us/step - loss: 8.5782 - mae: 8.5782\n",
      "Epoch 104/200\n",
      "2/2 [==============================] - 0s 2ms/step - loss: 8.5550 - mae: 8.5550\n",
      "Epoch 105/200\n",
      "2/2 [==============================] - 0s 1ms/step - loss: 8.6653 - mae: 8.6653\n",
      "Epoch 106/200\n",
      "2/2 [==============================] - 0s 1ms/step - loss: 7.2635 - mae: 7.2635\n",
      "Epoch 107/200\n",
      "2/2 [==============================] - 0s 2ms/step - loss: 8.1643 - mae: 8.1643\n",
      "Epoch 108/200\n",
      "2/2 [==============================] - 0s 2ms/step - loss: 7.7293 - mae: 7.7293\n",
      "Epoch 109/200\n",
      "2/2 [==============================] - 0s 1ms/step - loss: 10.6331 - mae: 10.6331\n",
      "Epoch 110/200\n",
      "2/2 [==============================] - 0s 1ms/step - loss: 9.4697 - mae: 9.4697\n",
      "Epoch 111/200\n",
      "2/2 [==============================] - 0s 1ms/step - loss: 9.3788 - mae: 9.3788\n",
      "Epoch 112/200\n",
      "2/2 [==============================] - 0s 1ms/step - loss: 9.8359 - mae: 9.8359\n",
      "Epoch 113/200\n",
      "2/2 [==============================] - 0s 1ms/step - loss: 13.1910 - mae: 13.1910\n",
      "Epoch 114/200\n",
      "2/2 [==============================] - 0s 1ms/step - loss: 8.4926 - mae: 8.4926\n",
      "Epoch 115/200\n",
      "2/2 [==============================] - 0s 1ms/step - loss: 11.1511 - mae: 11.1511\n",
      "Epoch 116/200\n",
      "2/2 [==============================] - 0s 1ms/step - loss: 14.6553 - mae: 14.6553\n",
      "Epoch 117/200\n",
      "2/2 [==============================] - 0s 1ms/step - loss: 8.6956 - mae: 8.6956\n",
      "Epoch 118/200\n",
      "2/2 [==============================] - 0s 1ms/step - loss: 12.7560 - mae: 12.7560\n",
      "Epoch 119/200\n",
      "2/2 [==============================] - 0s 1ms/step - loss: 10.4332 - mae: 10.4332\n",
      "Epoch 120/200\n",
      "2/2 [==============================] - 0s 2ms/step - loss: 14.5016 - mae: 14.5016\n",
      "Epoch 121/200\n",
      "2/2 [==============================] - 0s 1ms/step - loss: 9.2255 - mae: 9.2255\n",
      "Epoch 122/200\n",
      "2/2 [==============================] - 0s 1ms/step - loss: 14.0430 - mae: 14.0430\n",
      "Epoch 123/200\n",
      "2/2 [==============================] - 0s 1ms/step - loss: 9.8053 - mae: 9.8053\n",
      "Epoch 124/200\n",
      "2/2 [==============================] - 0s 2ms/step - loss: 9.9559 - mae: 9.9559\n",
      "Epoch 125/200\n",
      "2/2 [==============================] - 0s 1ms/step - loss: 11.8059 - mae: 11.8059\n",
      "Epoch 126/200\n",
      "2/2 [==============================] - 0s 1ms/step - loss: 10.8852 - mae: 10.8852\n",
      "Epoch 127/200\n",
      "2/2 [==============================] - 0s 1ms/step - loss: 9.1184 - mae: 9.1184\n",
      "Epoch 128/200\n",
      "2/2 [==============================] - 0s 1ms/step - loss: 12.3844 - mae: 12.3844\n",
      "Epoch 129/200\n",
      "2/2 [==============================] - 0s 1ms/step - loss: 16.6991 - mae: 16.6991\n",
      "Epoch 130/200\n",
      "2/2 [==============================] - 0s 1ms/step - loss: 11.4701 - mae: 11.4701\n",
      "Epoch 131/200\n",
      "2/2 [==============================] - 0s 1ms/step - loss: 8.0008 - mae: 8.0008\n",
      "Epoch 132/200\n",
      "2/2 [==============================] - 0s 1ms/step - loss: 8.1307 - mae: 8.1307\n",
      "Epoch 133/200\n",
      "2/2 [==============================] - 0s 1ms/step - loss: 12.8623 - mae: 12.8623\n",
      "Epoch 134/200\n",
      "2/2 [==============================] - 0s 1ms/step - loss: 14.1371 - mae: 14.1371\n",
      "Epoch 135/200\n",
      "2/2 [==============================] - 0s 1ms/step - loss: 9.4129 - mae: 9.4129\n",
      "Epoch 136/200\n",
      "2/2 [==============================] - 0s 1ms/step - loss: 11.6176 - mae: 11.6176\n",
      "Epoch 137/200\n",
      "2/2 [==============================] - 0s 1ms/step - loss: 12.1802 - mae: 12.1802\n",
      "Epoch 138/200\n",
      "2/2 [==============================] - 0s 1ms/step - loss: 12.2718 - mae: 12.2718\n",
      "Epoch 139/200\n",
      "2/2 [==============================] - 0s 2ms/step - loss: 12.0042 - mae: 12.0042\n",
      "Epoch 140/200\n",
      "2/2 [==============================] - 0s 1ms/step - loss: 7.9460 - mae: 7.9460\n",
      "Epoch 141/200\n",
      "2/2 [==============================] - 0s 1ms/step - loss: 8.3793 - mae: 8.3793\n",
      "Epoch 142/200\n",
      "2/2 [==============================] - 0s 1ms/step - loss: 11.1325 - mae: 11.1325\n",
      "Epoch 143/200\n",
      "2/2 [==============================] - 0s 1ms/step - loss: 12.8350 - mae: 12.8350\n",
      "Epoch 144/200\n",
      "2/2 [==============================] - 0s 2ms/step - loss: 8.1060 - mae: 8.1060\n",
      "Epoch 145/200\n",
      "2/2 [==============================] - 0s 1ms/step - loss: 11.4679 - mae: 11.4679\n",
      "Epoch 146/200\n",
      "2/2 [==============================] - 0s 1ms/step - loss: 12.0845 - mae: 12.0845\n",
      "Epoch 147/200\n",
      "2/2 [==============================] - 0s 1ms/step - loss: 11.7868 - mae: 11.7868\n",
      "Epoch 148/200\n",
      "2/2 [==============================] - 0s 1ms/step - loss: 8.8621 - mae: 8.8621\n",
      "Epoch 149/200\n",
      "2/2 [==============================] - 0s 1ms/step - loss: 12.0207 - mae: 12.0207\n",
      "Epoch 150/200\n",
      "2/2 [==============================] - 0s 1ms/step - loss: 12.0128 - mae: 12.0128\n",
      "Epoch 151/200\n",
      "2/2 [==============================] - 0s 1ms/step - loss: 12.4856 - mae: 12.4856\n",
      "Epoch 152/200\n",
      "2/2 [==============================] - 0s 2ms/step - loss: 10.7300 - mae: 10.7300\n",
      "Epoch 153/200\n",
      "2/2 [==============================] - 0s 1ms/step - loss: 9.7927 - mae: 9.7927\n",
      "Epoch 154/200\n",
      "2/2 [==============================] - 0s 1ms/step - loss: 13.9173 - mae: 13.9173\n",
      "Epoch 155/200\n",
      "2/2 [==============================] - 0s 1ms/step - loss: 8.8852 - mae: 8.8852\n",
      "Epoch 156/200\n",
      "2/2 [==============================] - 0s 2ms/step - loss: 15.8471 - mae: 15.8471\n",
      "Epoch 157/200\n",
      "2/2 [==============================] - 0s 1ms/step - loss: 7.8964 - mae: 7.8964\n",
      "Epoch 158/200\n",
      "2/2 [==============================] - 0s 1ms/step - loss: 7.7445 - mae: 7.7445\n",
      "Epoch 159/200\n",
      "2/2 [==============================] - 0s 2ms/step - loss: 7.7225 - mae: 7.7225\n",
      "Epoch 160/200\n",
      "2/2 [==============================] - 0s 1ms/step - loss: 10.1622 - mae: 10.1622\n",
      "Epoch 161/200\n",
      "2/2 [==============================] - 0s 1ms/step - loss: 12.9204 - mae: 12.9204\n",
      "Epoch 162/200\n",
      "2/2 [==============================] - 0s 1ms/step - loss: 13.5568 - mae: 13.5568\n",
      "Epoch 163/200\n",
      "2/2 [==============================] - 0s 1ms/step - loss: 11.4416 - mae: 11.4416\n",
      "Epoch 164/200\n",
      "2/2 [==============================] - 0s 1ms/step - loss: 11.3427 - mae: 11.3427\n",
      "Epoch 165/200\n",
      "2/2 [==============================] - 0s 2ms/step - loss: 10.4076 - mae: 10.4076\n",
      "Epoch 166/200\n",
      "2/2 [==============================] - 0s 1ms/step - loss: 12.0120 - mae: 12.0120\n",
      "Epoch 167/200\n",
      "2/2 [==============================] - 0s 1ms/step - loss: 9.8286 - mae: 9.8286\n",
      "Epoch 168/200\n",
      "2/2 [==============================] - 0s 1ms/step - loss: 13.2950 - mae: 13.2950\n",
      "Epoch 169/200\n",
      "2/2 [==============================] - 0s 1ms/step - loss: 14.0677 - mae: 14.0677\n",
      "Epoch 170/200\n",
      "2/2 [==============================] - 0s 1ms/step - loss: 12.3344 - mae: 12.3344\n",
      "Epoch 171/200\n",
      "2/2 [==============================] - 0s 1ms/step - loss: 13.3026 - mae: 13.3026\n",
      "Epoch 172/200\n",
      "2/2 [==============================] - 0s 1ms/step - loss: 12.3729 - mae: 12.3729\n",
      "Epoch 173/200\n",
      "2/2 [==============================] - 0s 1ms/step - loss: 8.1000 - mae: 8.1000\n",
      "Epoch 174/200\n",
      "2/2 [==============================] - 0s 1ms/step - loss: 7.8957 - mae: 7.8957\n",
      "Epoch 175/200\n",
      "2/2 [==============================] - 0s 1ms/step - loss: 8.9941 - mae: 8.9941\n",
      "Epoch 176/200\n",
      "2/2 [==============================] - 0s 1ms/step - loss: 13.3746 - mae: 13.3746\n",
      "Epoch 177/200\n",
      "2/2 [==============================] - 0s 1ms/step - loss: 13.5145 - mae: 13.5145\n",
      "Epoch 178/200\n",
      "2/2 [==============================] - 0s 1ms/step - loss: 7.6682 - mae: 7.6682\n",
      "Epoch 179/200\n",
      "2/2 [==============================] - 0s 1ms/step - loss: 7.4852 - mae: 7.4852\n",
      "Epoch 180/200\n",
      "2/2 [==============================] - 0s 1ms/step - loss: 8.1636 - mae: 8.1636\n",
      "Epoch 181/200\n",
      "2/2 [==============================] - 0s 1ms/step - loss: 14.5584 - mae: 14.5584\n",
      "Epoch 182/200\n",
      "2/2 [==============================] - 0s 1ms/step - loss: 12.8944 - mae: 12.8944\n",
      "Epoch 183/200\n",
      "2/2 [==============================] - 0s 1ms/step - loss: 13.9090 - mae: 13.9090\n",
      "Epoch 184/200\n",
      "2/2 [==============================] - 0s 1ms/step - loss: 10.5664 - mae: 10.5664\n",
      "Epoch 185/200\n",
      "2/2 [==============================] - 0s 1ms/step - loss: 11.6724 - mae: 11.6724\n",
      "Epoch 186/200\n",
      "2/2 [==============================] - 0s 1ms/step - loss: 11.6663 - mae: 11.6663\n",
      "Epoch 187/200\n",
      "2/2 [==============================] - 0s 1ms/step - loss: 10.9972 - mae: 10.9972\n",
      "Epoch 188/200\n",
      "2/2 [==============================] - 0s 2ms/step - loss: 11.4206 - mae: 11.4206\n",
      "Epoch 189/200\n",
      "2/2 [==============================] - 0s 1ms/step - loss: 14.3638 - mae: 14.3638\n",
      "Epoch 190/200\n",
      "2/2 [==============================] - 0s 2ms/step - loss: 15.1149 - mae: 15.1149\n",
      "Epoch 191/200\n",
      "2/2 [==============================] - 0s 1ms/step - loss: 9.0512 - mae: 9.0512\n",
      "Epoch 192/200\n",
      "2/2 [==============================] - 0s 2ms/step - loss: 12.9312 - mae: 12.9312\n",
      "Epoch 193/200\n",
      "2/2 [==============================] - 0s 1ms/step - loss: 8.2247 - mae: 8.2247\n",
      "Epoch 194/200\n",
      "2/2 [==============================] - 0s 1ms/step - loss: 10.1448 - mae: 10.1448\n",
      "Epoch 195/200\n",
      "2/2 [==============================] - 0s 1ms/step - loss: 13.3617 - mae: 13.3617\n",
      "Epoch 196/200\n",
      "2/2 [==============================] - 0s 1ms/step - loss: 11.6142 - mae: 11.6142\n",
      "Epoch 197/200\n",
      "2/2 [==============================] - 0s 1ms/step - loss: 8.1143 - mae: 8.1143\n",
      "Epoch 198/200\n",
      "2/2 [==============================] - 0s 1ms/step - loss: 10.7300 - mae: 10.7300\n",
      "Epoch 199/200\n",
      "2/2 [==============================] - 0s 1ms/step - loss: 12.7247 - mae: 12.7247\n",
      "Epoch 200/200\n",
      "2/2 [==============================] - 0s 1ms/step - loss: 10.5086 - mae: 10.5086\n"
     ]
    },
    {
     "data": {
      "text/plain": "<keras.callbacks.History at 0x3104caca0>"
     },
     "execution_count": 24,
     "metadata": {},
     "output_type": "execute_result"
    }
   ],
   "source": [
    "tf.random.set_seed(42)\n",
    "\n",
    "model = tf.keras.Sequential([\n",
    "    tf.keras.layers.Dense(1)\n",
    "])\n",
    "\n",
    "model.compile(loss = tf.keras.losses.mae,\n",
    "              optimizer=tf.keras.optimizers.SGD(),\n",
    "              metrics=[\"mae\"])\n",
    "\n",
    "model.fit(tf.expand_dims(X, axis=-1), y, epochs=200)"
   ],
   "metadata": {
    "collapsed": false,
    "ExecuteTime": {
     "end_time": "2024-11-28T14:48:15.512561Z",
     "start_time": "2024-11-28T14:48:14.810098Z"
    }
   },
   "id": "108b2753f4f9616c",
   "execution_count": 24
  },
  {
   "cell_type": "code",
   "outputs": [
    {
     "name": "stdout",
     "output_type": "stream",
     "text": [
      "1/1 [==============================] - 0s 11ms/step\n"
     ]
    },
    {
     "data": {
      "text/plain": "array([[ 77.82663 ],\n       [ 82.83805 ],\n       [ 87.84947 ],\n       [ 92.86089 ],\n       [ 97.87231 ],\n       [102.88373 ],\n       [107.89515 ],\n       [112.90656 ],\n       [117.917984],\n       [122.929405]], dtype=float32)"
     },
     "execution_count": 26,
     "metadata": {},
     "output_type": "execute_result"
    }
   ],
   "source": [
    "y_preds = model.predict(X_test)\n",
    "y_preds"
   ],
   "metadata": {
    "collapsed": false,
    "ExecuteTime": {
     "end_time": "2024-11-28T14:49:03.269181Z",
     "start_time": "2024-11-28T14:49:03.235920Z"
    }
   },
   "id": "dda2287029fa2be1",
   "execution_count": 26
  },
  {
   "cell_type": "code",
   "outputs": [
    {
     "data": {
      "text/plain": "<matplotlib.legend.Legend at 0x31040fb80>"
     },
     "execution_count": 27,
     "metadata": {},
     "output_type": "execute_result"
    },
    {
     "data": {
      "text/plain": "<Figure size 1000x700 with 1 Axes>",
      "image/png": "[encoded data removed]"
     },
     "metadata": {},
     "output_type": "display_data"
    }
   ],
   "source": [
    "#plot the data\n",
    "plt.figure(figsize=(10,7))\n",
    "\n",
    "plt.scatter(X_train,y_train,c=\"blue\",label=\"Train Data\")\n",
    "plt.scatter(X_test,y_test,c=\"green\",label=\"Test Data\")\n",
    "plt.scatter(X_test,y_preds,c=\"red\",label=\"Model's Predictions\")\n",
    "plt.legend()"
   ],
   "metadata": {
    "collapsed": false,
    "ExecuteTime": {
     "end_time": "2024-11-28T14:49:48.144647Z",
     "start_time": "2024-11-28T14:49:48.051224Z"
    }
   },
   "id": "83d2eef1bfb3b940",
   "execution_count": 27
  },
  {
   "cell_type": "markdown",
   "source": [
    "# Influența adăugării de neuroni și straturi într-o rețea neuronală\n",
    "\n",
    "Adăugarea mai multor neuroni într-un strat și adăugarea mai multor straturi într-o rețea neuronală influențează modelul în moduri diferite, afectând capacitatea acestuia de a învăța și de a generaliza din date.\n",
    "\n",
    "## 1. Adăugarea mai multor neuroni într-un strat (Creșterea lățimii)\n",
    "- **Capacitate de reprezentare crescută la nivelul respectiv:**  \n",
    "  Prin mărirea numărului de neuroni într-un strat, modelul poate captura mai multe caracteristici sau pattern-uri la acel nivel de abstractizare.\n",
    "- **Complexitate computațională mai mare:**  \n",
    "  Mai mulți neuroni înseamnă mai mulți parametri de antrenat, ceea ce poate crește timpul de antrenare și necesarul de resurse computaționale.\n",
    "- **Risc de supraînvățare (overfitting):**  \n",
    "  Un strat prea larg poate duce la modelarea zgomotului din datele de antrenament, afectând capacitatea de generalizare pe date noi.\n",
    "\n",
    "## 2. Adăugarea mai multor straturi (Creșterea adâncimii)\n",
    "- **Abilitatea de a învăța caracteristici mai complexe:**  \n",
    "  Straturile suplimentare permit rețelei să construiască reprezentări mai abstracte și să învețe ierarhii de caracteristici.\n",
    "- **Putere de expresie crescută:**  \n",
    "  Rețelele mai adânci pot aproxima funcții mai complexe și pot captura relații non-liniare mai avansate.\n",
    "- **Provocări în antrenare:**  \n",
    "  Rețelele foarte adânci pot suferi de probleme precum gradientul care dispare sau explodează, ceea ce poate îngreuna antrenarea. Tehnici precum normalizarea lotului (*batch normalization*) și funcțiile de activare adecvate (de exemplu, ReLU) pot atenua aceste probleme.\n",
    "- **Performanță potențial îmbunătățită:**  \n",
    "  În multe cazuri, creșterea adâncimii duce la îmbunătățiri semnificative ale performanței, mai ales în domenii precum procesarea imaginii și recunoașterea vorbirii.\n",
    "\n",
    "## 3. Efectul poziției straturilor în rețea (aproape de input vs. output)\n",
    "- **Straturi apropiate de input:**\n",
    "  - **Capturarea caracteristicilor de nivel scăzut:**  \n",
    "    Aceste straturi sunt responsabile pentru detectarea caracteristicilor simple, cum ar fi margini sau texturi în imagini.\n",
    "  - **Adăugarea de neuroni aici:**  \n",
    "    Poate îmbunătăți capacitatea rețelei de a captura detalii fine și de a reprezenta mai bine variațiile din datele de intrare.\n",
    "- **Straturi apropiate de output:**\n",
    "  - **Capturarea caracteristicilor de nivel înalt:**  \n",
    "    Aceste straturi combină caracteristicile de nivel scăzut pentru a forma reprezentări abstracte relevante pentru sarcina specifică (de exemplu, clasificarea obiectelor).\n",
    "  - **Adăugarea de neuroni aici:**  \n",
    "    Poate îmbunătăți abilitatea modelului de a diferenția între clase similare și de a captura relații complexe între caracteristici.\n",
    "\n",
    "## Concluzie\n",
    "- **Echilibrul între lățime și adâncime:**  \n",
    "  Alegerea între a adăuga neuroni sau straturi depinde de natura problemei și de datele disponibile. Uneori, o rețea mai largă este suficientă, în timp ce alteori este necesară o adâncime suplimentară pentru a captura complexitatea datelor.\n",
    "- **Impactul poziției în rețea:**  \n",
    "  Adăugarea de neuroni în straturi specifice poate fi folosită pentru a îmbunătăți capturarea caracteristicilor la diferite niveluri de abstractizare, influențând modul în care modelul procesează informația.\n",
    "- **Experimentare și validare:**  \n",
    "  Este important să experimentezi cu diferite arhitecturi și să utilizezi seturi de validare pentru a determina configurarea optimă pentru problema ta.\n",
    "\n",
    "Prin înțelegerea acestor aspecte, poți ajusta arhitectura rețelei neuronale pentru a obține performanțe mai bune și pentru a te asigura că modelul generalizează bine pe date noi."
   ],
   "metadata": {
    "collapsed": false
   },
   "id": "e58bb33e15d84b00"
  },
  {
   "cell_type": "markdown",
   "source": [
    "# A larger example"
   ],
   "metadata": {
    "collapsed": false
   },
   "id": "aac61b8c8f39d3a5"
  },
  {
   "cell_type": "code",
   "outputs": [],
   "source": [
    "import pandas as pd\n",
    "\n",
    "insurance = pd.read_csv(\"https://raw.githubusercontent.com/stedy/Machine-Learning-with-R-datasets/master/insurance.csv\")\\"
   ],
   "metadata": {
    "collapsed": false,
    "ExecuteTime": {
     "end_time": "2024-11-28T15:03:21.665679Z",
     "start_time": "2024-11-28T15:03:21.311650Z"
    }
   },
   "id": "868de9bd21f20fe8",
   "execution_count": 29
  },
  {
   "cell_type": "code",
   "outputs": [
    {
     "data": {
      "text/plain": "   age     sex     bmi  children smoker     region      charges\n0   19  female  27.900         0    yes  southwest  16884.92400\n1   18    male  33.770         1     no  southeast   1725.55230\n2   28    male  33.000         3     no  southeast   4449.46200\n3   33    male  22.705         0     no  northwest  21984.47061\n4   32    male  28.880         0     no  northwest   3866.85520",
      "text/html": "<div>\n<style scoped>\n    .dataframe tbody tr th:only-of-type {\n        vertical-align: middle;\n    }\n\n    .dataframe tbody tr th {\n        vertical-align: top;\n    }\n\n    .dataframe thead th {\n        text-align: right;\n    }\n</style>\n<table border=\"1\" class=\"dataframe\">\n  <thead>\n    <tr style=\"text-align: right;\">\n      <th></th>\n      <th>age</th>\n      <th>sex</th>\n      <th>bmi</th>\n      <th>children</th>\n      <th>smoker</th>\n      <th>region</th>\n      <th>charges</th>\n    </tr>\n  </thead>\n  <tbody>\n    <tr>\n      <th>0</th>\n      <td>19</td>\n      <td>female</td>\n      <td>27.900</td>\n      <td>0</td>\n      <td>yes</td>\n      <td>southwest</td>\n      <td>16884.92400</td>\n    </tr>\n    <tr>\n      <th>1</th>\n      <td>18</td>\n      <td>male</td>\n      <td>33.770</td>\n      <td>1</td>\n      <td>no</td>\n      <td>southeast</td>\n      <td>1725.55230</td>\n    </tr>\n    <tr>\n      <th>2</th>\n      <td>28</td>\n      <td>male</td>\n      <td>33.000</td>\n      <td>3</td>\n      <td>no</td>\n      <td>southeast</td>\n      <td>4449.46200</td>\n    </tr>\n    <tr>\n      <th>3</th>\n      <td>33</td>\n      <td>male</td>\n      <td>22.705</td>\n      <td>0</td>\n      <td>no</td>\n      <td>northwest</td>\n      <td>21984.47061</td>\n    </tr>\n    <tr>\n      <th>4</th>\n      <td>32</td>\n      <td>male</td>\n      <td>28.880</td>\n      <td>0</td>\n      <td>no</td>\n      <td>northwest</td>\n      <td>3866.85520</td>\n    </tr>\n  </tbody>\n</table>\n</div>"
     },
     "execution_count": 31,
     "metadata": {},
     "output_type": "execute_result"
    }
   ],
   "source": [
    "insurance.head()"
   ],
   "metadata": {
    "collapsed": false,
    "ExecuteTime": {
     "end_time": "2024-11-28T15:03:35.767815Z",
     "start_time": "2024-11-28T15:03:35.761893Z"
    }
   },
   "id": "4c85920641208ac5",
   "execution_count": 31
  },
  {
   "cell_type": "markdown",
   "source": [
    "## Encode using one hot encoding"
   ],
   "metadata": {
    "collapsed": false
   },
   "id": "426c27a5616830d2"
  },
  {
   "cell_type": "code",
   "outputs": [
    {
     "data": {
      "text/plain": "   age     bmi  children      charges  sex_female  sex_male  smoker_no  \\\n0   19  27.900         0  16884.92400           1         0          0   \n1   18  33.770         1   1725.55230           0         1          1   \n2   28  33.000         3   4449.46200           0         1          1   \n3   33  22.705         0  21984.47061           0         1          1   \n4   32  28.880         0   3866.85520           0         1          1   \n\n   smoker_yes  region_northeast  region_northwest  region_southeast  \\\n0           1                 0                 0                 0   \n1           0                 0                 0                 1   \n2           0                 0                 0                 1   \n3           0                 0                 1                 0   \n4           0                 0                 1                 0   \n\n   region_southwest  \n0                 1  \n1                 0  \n2                 0  \n3                 0  \n4                 0  ",
      "text/html": "<div>\n<style scoped>\n    .dataframe tbody tr th:only-of-type {\n        vertical-align: middle;\n    }\n\n    .dataframe tbody tr th {\n        vertical-align: top;\n    }\n\n    .dataframe thead th {\n        text-align: right;\n    }\n</style>\n<table border=\"1\" class=\"dataframe\">\n  <thead>\n    <tr style=\"text-align: right;\">\n      <th></th>\n      <th>age</th>\n      <th>bmi</th>\n      <th>children</th>\n      <th>charges</th>\n      <th>sex_female</th>\n      <th>sex_male</th>\n      <th>smoker_no</th>\n      <th>smoker_yes</th>\n      <th>region_northeast</th>\n      <th>region_northwest</th>\n      <th>region_southeast</th>\n      <th>region_southwest</th>\n    </tr>\n  </thead>\n  <tbody>\n    <tr>\n      <th>0</th>\n      <td>19</td>\n      <td>27.900</td>\n      <td>0</td>\n      <td>16884.92400</td>\n      <td>1</td>\n      <td>0</td>\n      <td>0</td>\n      <td>1</td>\n      <td>0</td>\n      <td>0</td>\n      <td>0</td>\n      <td>1</td>\n    </tr>\n    <tr>\n      <th>1</th>\n      <td>18</td>\n      <td>33.770</td>\n      <td>1</td>\n      <td>1725.55230</td>\n      <td>0</td>\n      <td>1</td>\n      <td>1</td>\n      <td>0</td>\n      <td>0</td>\n      <td>0</td>\n      <td>1</td>\n      <td>0</td>\n    </tr>\n    <tr>\n      <th>2</th>\n      <td>28</td>\n      <td>33.000</td>\n      <td>3</td>\n      <td>4449.46200</td>\n      <td>0</td>\n      <td>1</td>\n      <td>1</td>\n      <td>0</td>\n      <td>0</td>\n      <td>0</td>\n      <td>1</td>\n      <td>0</td>\n    </tr>\n    <tr>\n      <th>3</th>\n      <td>33</td>\n      <td>22.705</td>\n      <td>0</td>\n      <td>21984.47061</td>\n      <td>0</td>\n      <td>1</td>\n      <td>1</td>\n      <td>0</td>\n      <td>0</td>\n      <td>1</td>\n      <td>0</td>\n      <td>0</td>\n    </tr>\n    <tr>\n      <th>4</th>\n      <td>32</td>\n      <td>28.880</td>\n      <td>0</td>\n      <td>3866.85520</td>\n      <td>0</td>\n      <td>1</td>\n      <td>1</td>\n      <td>0</td>\n      <td>0</td>\n      <td>1</td>\n      <td>0</td>\n      <td>0</td>\n    </tr>\n  </tbody>\n</table>\n</div>"
     },
     "execution_count": 36,
     "metadata": {},
     "output_type": "execute_result"
    }
   ],
   "source": [
    "# encode\n",
    "insurance_one_hot = pd.get_dummies(insurance, dtype=int)\n",
    "insurance_one_hot.head() "
   ],
   "metadata": {
    "collapsed": false,
    "ExecuteTime": {
     "end_time": "2024-11-28T15:09:55.908050Z",
     "start_time": "2024-11-28T15:09:55.895300Z"
    }
   },
   "id": "f5daf22bc8420506",
   "execution_count": 36
  },
  {
   "cell_type": "code",
   "outputs": [
    {
     "data": {
      "text/plain": "(      age     bmi  children  sex_female  sex_male  smoker_no  smoker_yes  \\\n 0      19  27.900         0           1         0          0           1   \n 1      18  33.770         1           0         1          1           0   \n 2      28  33.000         3           0         1          1           0   \n 3      33  22.705         0           0         1          1           0   \n 4      32  28.880         0           0         1          1           0   \n ...   ...     ...       ...         ...       ...        ...         ...   \n 1333   50  30.970         3           0         1          1           0   \n 1334   18  31.920         0           1         0          1           0   \n 1335   18  36.850         0           1         0          1           0   \n 1336   21  25.800         0           1         0          1           0   \n 1337   61  29.070         0           1         0          0           1   \n \n       region_northeast  region_northwest  region_southeast  region_southwest  \n 0                    0                 0                 0                 1  \n 1                    0                 0                 1                 0  \n 2                    0                 0                 1                 0  \n 3                    0                 1                 0                 0  \n 4                    0                 1                 0                 0  \n ...                ...               ...               ...               ...  \n 1333                 0                 1                 0                 0  \n 1334                 1                 0                 0                 0  \n 1335                 0                 0                 1                 0  \n 1336                 0                 0                 0                 1  \n 1337                 0                 1                 0                 0  \n \n [1338 rows x 11 columns],\n 0       16884.92400\n 1        1725.55230\n 2        4449.46200\n 3       21984.47061\n 4        3866.85520\n            ...     \n 1333    10600.54830\n 1334     2205.98080\n 1335     1629.83350\n 1336     2007.94500\n 1337    29141.36030\n Name: charges, Length: 1338, dtype: float64)"
     },
     "execution_count": 38,
     "metadata": {},
     "output_type": "execute_result"
    }
   ],
   "source": [
    "X = insurance_one_hot.drop([\"charges\"], axis=1)\n",
    "y = insurance_one_hot[\"charges\"]\n",
    "X,y"
   ],
   "metadata": {
    "collapsed": false,
    "ExecuteTime": {
     "end_time": "2024-11-28T15:18:00.581918Z",
     "start_time": "2024-11-28T15:18:00.575752Z"
    }
   },
   "id": "84611cabb7a8eb99",
   "execution_count": 38
  },
  {
   "cell_type": "code",
   "outputs": [],
   "source": [
    "from sklearn.model_selection import train_test_split\n",
    "\n",
    "X_train, X_test, y_train, y_test = train_test_split(\n",
    "    X,\n",
    "    y,\n",
    "    test_size=0.2,\n",
    "    random_state=42\n",
    ")"
   ],
   "metadata": {
    "collapsed": false,
    "ExecuteTime": {
     "end_time": "2024-11-28T15:18:07.996556Z",
     "start_time": "2024-11-28T15:18:07.993495Z"
    }
   },
   "id": "298a68b2895c7462",
   "execution_count": 39
  },
  {
   "cell_type": "code",
   "outputs": [
    {
     "data": {
      "text/plain": "(1070, 11)"
     },
     "execution_count": 41,
     "metadata": {},
     "output_type": "execute_result"
    }
   ],
   "source": [
    "X_train.shape"
   ],
   "metadata": {
    "collapsed": false,
    "ExecuteTime": {
     "end_time": "2024-11-28T15:20:11.108566Z",
     "start_time": "2024-11-28T15:20:11.097396Z"
    }
   },
   "id": "b3740053fb4b932a",
   "execution_count": 41
  },
  {
   "cell_type": "code",
   "outputs": [
    {
     "name": "stderr",
     "output_type": "stream",
     "text": [
      "WARNING:absl:At this time, the v2.11+ optimizer `tf.keras.optimizers.SGD` runs slowly on M1/M2 Macs, please use the legacy Keras optimizer instead, located at `tf.keras.optimizers.legacy.SGD`.\n",
      "WARNING:absl:There is a known slowdown when using v2.11+ Keras optimizers on M1/M2 Macs. Falling back to the legacy Keras optimizer, i.e., `tf.keras.optimizers.legacy.SGD`.\n"
     ]
    },
    {
     "name": "stdout",
     "output_type": "stream",
     "text": [
      "Epoch 1/200\n",
      "34/34 [==============================] - 0s 414us/step - loss: 8776.2490 - mae: 8776.2490\n",
      "Epoch 2/200\n",
      "34/34 [==============================] - 0s 386us/step - loss: 7872.8853 - mae: 7872.8853\n",
      "Epoch 3/200\n",
      "34/34 [==============================] - 0s 848us/step - loss: 7571.7129 - mae: 7571.7129\n",
      "Epoch 4/200\n",
      "34/34 [==============================] - 0s 314us/step - loss: 7670.0562 - mae: 7670.0562\n",
      "Epoch 5/200\n",
      "34/34 [==============================] - 0s 289us/step - loss: 7672.9297 - mae: 7672.9297\n",
      "Epoch 6/200\n",
      "34/34 [==============================] - 0s 368us/step - loss: 7646.7212 - mae: 7646.7212\n",
      "Epoch 7/200\n",
      "34/34 [==============================] - 0s 340us/step - loss: 7528.2236 - mae: 7528.2236\n",
      "Epoch 8/200\n",
      "34/34 [==============================] - 0s 335us/step - loss: 7736.2852 - mae: 7736.2852\n",
      "Epoch 9/200\n",
      "34/34 [==============================] - 0s 332us/step - loss: 7593.6621 - mae: 7593.6621\n",
      "Epoch 10/200\n",
      "34/34 [==============================] - 0s 293us/step - loss: 7742.7734 - mae: 7742.7734\n",
      "Epoch 11/200\n",
      "34/34 [==============================] - 0s 318us/step - loss: 7586.5635 - mae: 7586.5635\n",
      "Epoch 12/200\n",
      "34/34 [==============================] - 0s 312us/step - loss: 7610.8940 - mae: 7610.8940\n",
      "Epoch 13/200\n",
      "34/34 [==============================] - 0s 308us/step - loss: 7685.2520 - mae: 7685.2520\n",
      "Epoch 14/200\n",
      "34/34 [==============================] - 0s 316us/step - loss: 7814.6055 - mae: 7814.6055\n",
      "Epoch 15/200\n",
      "34/34 [==============================] - 0s 326us/step - loss: 7517.1929 - mae: 7517.1929\n",
      "Epoch 16/200\n",
      "34/34 [==============================] - 0s 340us/step - loss: 7681.0840 - mae: 7681.0840\n",
      "Epoch 17/200\n",
      "34/34 [==============================] - 0s 313us/step - loss: 7577.9302 - mae: 7577.9302\n",
      "Epoch 18/200\n",
      "34/34 [==============================] - 0s 320us/step - loss: 7683.6440 - mae: 7683.6440\n",
      "Epoch 19/200\n",
      "34/34 [==============================] - 0s 324us/step - loss: 7715.5527 - mae: 7715.5527\n",
      "Epoch 20/200\n",
      "34/34 [==============================] - 0s 323us/step - loss: 7859.0215 - mae: 7859.0215\n",
      "Epoch 21/200\n",
      "34/34 [==============================] - 0s 302us/step - loss: 7467.4043 - mae: 7467.4043\n",
      "Epoch 22/200\n",
      "34/34 [==============================] - 0s 313us/step - loss: 7797.4736 - mae: 7797.4736\n",
      "Epoch 23/200\n",
      "34/34 [==============================] - 0s 329us/step - loss: 7676.9717 - mae: 7676.9717\n",
      "Epoch 24/200\n",
      "34/34 [==============================] - 0s 335us/step - loss: 7553.1372 - mae: 7553.1372\n",
      "Epoch 25/200\n",
      "34/34 [==============================] - 0s 329us/step - loss: 7665.1514 - mae: 7665.1514\n",
      "Epoch 26/200\n",
      "34/34 [==============================] - 0s 308us/step - loss: 7469.3926 - mae: 7469.3926\n",
      "Epoch 27/200\n",
      "34/34 [==============================] - 0s 310us/step - loss: 7692.4185 - mae: 7692.4185\n",
      "Epoch 28/200\n",
      "34/34 [==============================] - 0s 307us/step - loss: 7561.3623 - mae: 7561.3623\n",
      "Epoch 29/200\n",
      "34/34 [==============================] - 0s 322us/step - loss: 7680.2031 - mae: 7680.2031\n",
      "Epoch 30/200\n",
      "34/34 [==============================] - 0s 320us/step - loss: 7398.3682 - mae: 7398.3682\n",
      "Epoch 31/200\n",
      "34/34 [==============================] - 0s 289us/step - loss: 7660.7456 - mae: 7660.7456\n",
      "Epoch 32/200\n",
      "34/34 [==============================] - 0s 313us/step - loss: 7439.7197 - mae: 7439.7197\n",
      "Epoch 33/200\n",
      "34/34 [==============================] - 0s 304us/step - loss: 7555.0977 - mae: 7555.0977\n",
      "Epoch 34/200\n",
      "34/34 [==============================] - 0s 317us/step - loss: 7495.6558 - mae: 7495.6558\n",
      "Epoch 35/200\n",
      "34/34 [==============================] - 0s 319us/step - loss: 7405.2026 - mae: 7405.2026\n",
      "Epoch 36/200\n",
      "34/34 [==============================] - 0s 304us/step - loss: 7560.9370 - mae: 7560.9370\n",
      "Epoch 37/200\n",
      "34/34 [==============================] - 0s 298us/step - loss: 7561.8193 - mae: 7561.8193\n",
      "Epoch 38/200\n",
      "34/34 [==============================] - 0s 312us/step - loss: 7248.0181 - mae: 7248.0181\n",
      "Epoch 39/200\n",
      "34/34 [==============================] - 0s 306us/step - loss: 7497.4565 - mae: 7497.4565\n",
      "Epoch 40/200\n",
      "34/34 [==============================] - 0s 321us/step - loss: 7262.6411 - mae: 7262.6411\n",
      "Epoch 41/200\n",
      "34/34 [==============================] - 0s 309us/step - loss: 7710.6538 - mae: 7710.6538\n",
      "Epoch 42/200\n",
      "34/34 [==============================] - 0s 307us/step - loss: 7435.0063 - mae: 7435.0063\n",
      "Epoch 43/200\n",
      "34/34 [==============================] - 0s 307us/step - loss: 7549.1709 - mae: 7549.1709\n",
      "Epoch 44/200\n",
      "34/34 [==============================] - 0s 305us/step - loss: 7338.7432 - mae: 7338.7432\n",
      "Epoch 45/200\n",
      "34/34 [==============================] - 0s 311us/step - loss: 7438.7236 - mae: 7438.7236\n",
      "Epoch 46/200\n",
      "34/34 [==============================] - 0s 322us/step - loss: 7233.0977 - mae: 7233.0977\n",
      "Epoch 47/200\n",
      "34/34 [==============================] - 0s 304us/step - loss: 7341.8984 - mae: 7341.8984\n",
      "Epoch 48/200\n",
      "34/34 [==============================] - 0s 320us/step - loss: 7444.4243 - mae: 7444.4243\n",
      "Epoch 49/200\n",
      "34/34 [==============================] - 0s 314us/step - loss: 7465.5967 - mae: 7465.5967\n",
      "Epoch 50/200\n",
      "34/34 [==============================] - 0s 315us/step - loss: 7528.5923 - mae: 7528.5923\n",
      "Epoch 51/200\n",
      "34/34 [==============================] - 0s 296us/step - loss: 7393.0781 - mae: 7393.0781\n",
      "Epoch 52/200\n",
      "34/34 [==============================] - 0s 322us/step - loss: 7369.4082 - mae: 7369.4082\n",
      "Epoch 53/200\n",
      "34/34 [==============================] - 0s 311us/step - loss: 7598.6245 - mae: 7598.6245\n",
      "Epoch 54/200\n",
      "34/34 [==============================] - 0s 306us/step - loss: 7203.3149 - mae: 7203.3149\n",
      "Epoch 55/200\n",
      "34/34 [==============================] - 0s 312us/step - loss: 7343.5879 - mae: 7343.5879\n",
      "Epoch 56/200\n",
      "34/34 [==============================] - 0s 315us/step - loss: 7256.3188 - mae: 7256.3188\n",
      "Epoch 57/200\n",
      "34/34 [==============================] - 0s 310us/step - loss: 7461.5010 - mae: 7461.5010\n",
      "Epoch 58/200\n",
      "34/34 [==============================] - 0s 329us/step - loss: 7253.9600 - mae: 7253.9600\n",
      "Epoch 59/200\n",
      "34/34 [==============================] - 0s 323us/step - loss: 7430.0913 - mae: 7430.0913\n",
      "Epoch 60/200\n",
      "34/34 [==============================] - 0s 308us/step - loss: 7373.4380 - mae: 7373.4380\n",
      "Epoch 61/200\n",
      "34/34 [==============================] - 0s 321us/step - loss: 7520.8232 - mae: 7520.8232\n",
      "Epoch 62/200\n",
      "34/34 [==============================] - 0s 318us/step - loss: 7306.3779 - mae: 7306.3779\n",
      "Epoch 63/200\n",
      "34/34 [==============================] - 0s 306us/step - loss: 7201.0117 - mae: 7201.0117\n",
      "Epoch 64/200\n",
      "34/34 [==============================] - 0s 303us/step - loss: 7400.8188 - mae: 7400.8188\n",
      "Epoch 65/200\n",
      "34/34 [==============================] - 0s 310us/step - loss: 7336.8970 - mae: 7336.8970\n",
      "Epoch 66/200\n",
      "34/34 [==============================] - 0s 321us/step - loss: 7565.5522 - mae: 7565.5522\n",
      "Epoch 67/200\n",
      "34/34 [==============================] - 0s 307us/step - loss: 7303.0547 - mae: 7303.0547\n",
      "Epoch 68/200\n",
      "34/34 [==============================] - 0s 333us/step - loss: 7551.7012 - mae: 7551.7012\n",
      "Epoch 69/200\n",
      "34/34 [==============================] - 0s 335us/step - loss: 7234.8638 - mae: 7234.8638\n",
      "Epoch 70/200\n",
      "34/34 [==============================] - 0s 335us/step - loss: 7597.5806 - mae: 7597.5806\n",
      "Epoch 71/200\n",
      "34/34 [==============================] - 0s 320us/step - loss: 7199.2871 - mae: 7199.2871\n",
      "Epoch 72/200\n",
      "34/34 [==============================] - 0s 324us/step - loss: 7331.5669 - mae: 7331.5669\n",
      "Epoch 73/200\n",
      "34/34 [==============================] - 0s 326us/step - loss: 7363.5127 - mae: 7363.5127\n",
      "Epoch 74/200\n",
      "34/34 [==============================] - 0s 321us/step - loss: 7263.8916 - mae: 7263.8916\n",
      "Epoch 75/200\n",
      "34/34 [==============================] - 0s 302us/step - loss: 7371.1104 - mae: 7371.1104\n",
      "Epoch 76/200\n",
      "34/34 [==============================] - 0s 318us/step - loss: 7221.5029 - mae: 7221.5029\n",
      "Epoch 77/200\n",
      "34/34 [==============================] - 0s 313us/step - loss: 6962.0723 - mae: 6962.0723\n",
      "Epoch 78/200\n",
      "34/34 [==============================] - 0s 335us/step - loss: 7262.1904 - mae: 7262.1904\n",
      "Epoch 79/200\n",
      "34/34 [==============================] - 0s 306us/step - loss: 7283.0962 - mae: 7283.0962\n",
      "Epoch 80/200\n",
      "34/34 [==============================] - 0s 310us/step - loss: 7292.4404 - mae: 7292.4404\n",
      "Epoch 81/200\n",
      "34/34 [==============================] - 0s 309us/step - loss: 7184.1187 - mae: 7184.1187\n",
      "Epoch 82/200\n",
      "34/34 [==============================] - 0s 298us/step - loss: 7211.1074 - mae: 7211.1074\n",
      "Epoch 83/200\n",
      "34/34 [==============================] - 0s 302us/step - loss: 7245.9463 - mae: 7245.9463\n",
      "Epoch 84/200\n",
      "34/34 [==============================] - 0s 301us/step - loss: 7195.1802 - mae: 7195.1802\n",
      "Epoch 85/200\n",
      "34/34 [==============================] - 0s 332us/step - loss: 7302.8584 - mae: 7302.8584\n",
      "Epoch 86/200\n",
      "34/34 [==============================] - 0s 322us/step - loss: 7423.2939 - mae: 7423.2939\n",
      "Epoch 87/200\n",
      "34/34 [==============================] - 0s 315us/step - loss: 7153.4766 - mae: 7153.4766\n",
      "Epoch 88/200\n",
      "34/34 [==============================] - 0s 318us/step - loss: 7384.9634 - mae: 7384.9634\n",
      "Epoch 89/200\n",
      "34/34 [==============================] - 0s 314us/step - loss: 7439.1904 - mae: 7439.1904\n",
      "Epoch 90/200\n",
      "34/34 [==============================] - 0s 312us/step - loss: 7196.6353 - mae: 7196.6353\n",
      "Epoch 91/200\n",
      "34/34 [==============================] - 0s 312us/step - loss: 7254.5757 - mae: 7254.5757\n",
      "Epoch 92/200\n",
      "34/34 [==============================] - 0s 323us/step - loss: 7016.7983 - mae: 7016.7983\n",
      "Epoch 93/200\n",
      "34/34 [==============================] - 0s 306us/step - loss: 7430.3364 - mae: 7430.3364\n",
      "Epoch 94/200\n",
      "34/34 [==============================] - 0s 323us/step - loss: 7369.3911 - mae: 7369.3911\n",
      "Epoch 95/200\n",
      "34/34 [==============================] - 0s 308us/step - loss: 7263.5898 - mae: 7263.5898\n",
      "Epoch 96/200\n",
      "34/34 [==============================] - 0s 315us/step - loss: 7096.0571 - mae: 7096.0571\n",
      "Epoch 97/200\n",
      "34/34 [==============================] - 0s 325us/step - loss: 7320.3237 - mae: 7320.3237\n",
      "Epoch 98/200\n",
      "34/34 [==============================] - 0s 326us/step - loss: 7225.8286 - mae: 7225.8286\n",
      "Epoch 99/200\n",
      "34/34 [==============================] - 0s 309us/step - loss: 7306.7964 - mae: 7306.7964\n",
      "Epoch 100/200\n",
      "34/34 [==============================] - 0s 315us/step - loss: 7279.5098 - mae: 7279.5098\n",
      "Epoch 101/200\n",
      "34/34 [==============================] - 0s 330us/step - loss: 7405.7065 - mae: 7405.7065\n",
      "Epoch 102/200\n",
      "34/34 [==============================] - 0s 320us/step - loss: 6966.1499 - mae: 6966.1499\n",
      "Epoch 103/200\n",
      "34/34 [==============================] - 0s 317us/step - loss: 7314.3643 - mae: 7314.3643\n",
      "Epoch 104/200\n",
      "34/34 [==============================] - 0s 328us/step - loss: 7141.4126 - mae: 7141.4126\n",
      "Epoch 105/200\n",
      "34/34 [==============================] - 0s 315us/step - loss: 7374.2915 - mae: 7374.2915\n",
      "Epoch 106/200\n",
      "34/34 [==============================] - 0s 314us/step - loss: 7289.2285 - mae: 7289.2285\n",
      "Epoch 107/200\n",
      "34/34 [==============================] - 0s 313us/step - loss: 7101.1592 - mae: 7101.1592\n",
      "Epoch 108/200\n",
      "34/34 [==============================] - 0s 314us/step - loss: 7184.7134 - mae: 7184.7134\n",
      "Epoch 109/200\n",
      "34/34 [==============================] - 0s 302us/step - loss: 7176.2842 - mae: 7176.2842\n",
      "Epoch 110/200\n",
      "34/34 [==============================] - 0s 316us/step - loss: 7387.2095 - mae: 7387.2095\n",
      "Epoch 111/200\n",
      "34/34 [==============================] - 0s 305us/step - loss: 7071.2192 - mae: 7071.2192\n",
      "Epoch 112/200\n",
      "34/34 [==============================] - 0s 297us/step - loss: 7229.8003 - mae: 7229.8003\n",
      "Epoch 113/200\n",
      "34/34 [==============================] - 0s 326us/step - loss: 7363.8872 - mae: 7363.8872\n",
      "Epoch 114/200\n",
      "34/34 [==============================] - 0s 304us/step - loss: 7189.0312 - mae: 7189.0312\n",
      "Epoch 115/200\n",
      "34/34 [==============================] - 0s 316us/step - loss: 7101.2480 - mae: 7101.2480\n",
      "Epoch 116/200\n",
      "34/34 [==============================] - 0s 312us/step - loss: 7310.5908 - mae: 7310.5908\n",
      "Epoch 117/200\n",
      "34/34 [==============================] - 0s 306us/step - loss: 7167.0376 - mae: 7167.0376\n",
      "Epoch 118/200\n",
      "34/34 [==============================] - 0s 325us/step - loss: 6981.3237 - mae: 6981.3237\n",
      "Epoch 119/200\n",
      "34/34 [==============================] - 0s 330us/step - loss: 6968.0542 - mae: 6968.0542\n",
      "Epoch 120/200\n",
      "34/34 [==============================] - 0s 319us/step - loss: 7160.5435 - mae: 7160.5435\n",
      "Epoch 121/200\n",
      "34/34 [==============================] - 0s 323us/step - loss: 7142.7700 - mae: 7142.7700\n",
      "Epoch 122/200\n",
      "34/34 [==============================] - 0s 331us/step - loss: 7319.8730 - mae: 7319.8730\n",
      "Epoch 123/200\n",
      "34/34 [==============================] - 0s 286us/step - loss: 7069.3979 - mae: 7069.3979\n",
      "Epoch 124/200\n",
      "34/34 [==============================] - 0s 328us/step - loss: 6999.6274 - mae: 6999.6274\n",
      "Epoch 125/200\n",
      "34/34 [==============================] - 0s 311us/step - loss: 7195.5596 - mae: 7195.5596\n",
      "Epoch 126/200\n",
      "34/34 [==============================] - 0s 307us/step - loss: 7015.5400 - mae: 7015.5400\n",
      "Epoch 127/200\n",
      "34/34 [==============================] - 0s 292us/step - loss: 7358.0815 - mae: 7358.0815\n",
      "Epoch 128/200\n",
      "34/34 [==============================] - 0s 318us/step - loss: 7235.7461 - mae: 7235.7461\n",
      "Epoch 129/200\n",
      "34/34 [==============================] - 0s 313us/step - loss: 7362.1011 - mae: 7362.1011\n",
      "Epoch 130/200\n",
      "34/34 [==============================] - 0s 294us/step - loss: 7122.7432 - mae: 7122.7432\n",
      "Epoch 131/200\n",
      "34/34 [==============================] - 0s 309us/step - loss: 7025.7876 - mae: 7025.7876\n",
      "Epoch 132/200\n",
      "34/34 [==============================] - 0s 317us/step - loss: 7221.7437 - mae: 7221.7437\n",
      "Epoch 133/200\n",
      "34/34 [==============================] - 0s 299us/step - loss: 6979.9312 - mae: 6979.9312\n",
      "Epoch 134/200\n",
      "34/34 [==============================] - 0s 322us/step - loss: 7429.4224 - mae: 7429.4224\n",
      "Epoch 135/200\n",
      "34/34 [==============================] - 0s 314us/step - loss: 7095.6812 - mae: 7095.6812\n",
      "Epoch 136/200\n",
      "34/34 [==============================] - 0s 321us/step - loss: 6983.3970 - mae: 6983.3970\n",
      "Epoch 137/200\n",
      "34/34 [==============================] - 0s 327us/step - loss: 7049.3364 - mae: 7049.3364\n",
      "Epoch 138/200\n",
      "34/34 [==============================] - 0s 318us/step - loss: 7101.9575 - mae: 7101.9575\n",
      "Epoch 139/200\n",
      "34/34 [==============================] - 0s 300us/step - loss: 7177.6123 - mae: 7177.6123\n",
      "Epoch 140/200\n",
      "34/34 [==============================] - 0s 295us/step - loss: 7095.3804 - mae: 7095.3804\n",
      "Epoch 141/200\n",
      "34/34 [==============================] - 0s 310us/step - loss: 7280.8110 - mae: 7280.8110\n",
      "Epoch 142/200\n",
      "34/34 [==============================] - 0s 323us/step - loss: 6868.4209 - mae: 6868.4209\n",
      "Epoch 143/200\n",
      "34/34 [==============================] - 0s 328us/step - loss: 7117.2852 - mae: 7117.2852\n",
      "Epoch 144/200\n",
      "34/34 [==============================] - 0s 338us/step - loss: 7114.6821 - mae: 7114.6821\n",
      "Epoch 145/200\n",
      "34/34 [==============================] - 0s 319us/step - loss: 6910.1660 - mae: 6910.1660\n",
      "Epoch 146/200\n",
      "34/34 [==============================] - 0s 308us/step - loss: 7028.3872 - mae: 7028.3872\n",
      "Epoch 147/200\n",
      "34/34 [==============================] - 0s 314us/step - loss: 7025.3799 - mae: 7025.3799\n",
      "Epoch 148/200\n",
      "34/34 [==============================] - 0s 316us/step - loss: 7172.5200 - mae: 7172.5200\n",
      "Epoch 149/200\n",
      "34/34 [==============================] - 0s 319us/step - loss: 7013.5615 - mae: 7013.5615\n",
      "Epoch 150/200\n",
      "34/34 [==============================] - 0s 314us/step - loss: 6793.8091 - mae: 6793.8091\n",
      "Epoch 151/200\n",
      "34/34 [==============================] - 0s 312us/step - loss: 7143.0942 - mae: 7143.0942\n",
      "Epoch 152/200\n",
      "34/34 [==============================] - 0s 314us/step - loss: 6913.1250 - mae: 6913.1250\n",
      "Epoch 153/200\n",
      "34/34 [==============================] - 0s 303us/step - loss: 7173.0527 - mae: 7173.0527\n",
      "Epoch 154/200\n",
      "34/34 [==============================] - 0s 326us/step - loss: 6981.7847 - mae: 6981.7847\n",
      "Epoch 155/200\n",
      "34/34 [==============================] - 0s 306us/step - loss: 6980.6309 - mae: 6980.6309\n",
      "Epoch 156/200\n",
      "34/34 [==============================] - 0s 325us/step - loss: 6837.6367 - mae: 6837.6367\n",
      "Epoch 157/200\n",
      "34/34 [==============================] - 0s 313us/step - loss: 6974.6904 - mae: 6974.6904\n",
      "Epoch 158/200\n",
      "34/34 [==============================] - 0s 315us/step - loss: 6784.2202 - mae: 6784.2202\n",
      "Epoch 159/200\n",
      "34/34 [==============================] - 0s 299us/step - loss: 7177.2031 - mae: 7177.2031\n",
      "Epoch 160/200\n",
      "34/34 [==============================] - 0s 299us/step - loss: 6907.4072 - mae: 6907.4072\n",
      "Epoch 161/200\n",
      "34/34 [==============================] - 0s 318us/step - loss: 6924.8892 - mae: 6924.8892\n",
      "Epoch 162/200\n",
      "34/34 [==============================] - 0s 308us/step - loss: 7081.3330 - mae: 7081.3330\n",
      "Epoch 163/200\n",
      "34/34 [==============================] - 0s 311us/step - loss: 6899.9434 - mae: 6899.9434\n",
      "Epoch 164/200\n",
      "34/34 [==============================] - 0s 322us/step - loss: 7211.8901 - mae: 7211.8901\n",
      "Epoch 165/200\n",
      "34/34 [==============================] - 0s 325us/step - loss: 7120.2168 - mae: 7120.2168\n",
      "Epoch 166/200\n",
      "34/34 [==============================] - 0s 327us/step - loss: 7000.0742 - mae: 7000.0742\n",
      "Epoch 167/200\n",
      "34/34 [==============================] - 0s 299us/step - loss: 6726.5566 - mae: 6726.5566\n",
      "Epoch 168/200\n",
      "34/34 [==============================] - 0s 314us/step - loss: 7098.1421 - mae: 7098.1421\n",
      "Epoch 169/200\n",
      "34/34 [==============================] - 0s 299us/step - loss: 7198.8994 - mae: 7198.8994\n",
      "Epoch 170/200\n",
      "34/34 [==============================] - 0s 320us/step - loss: 6993.5498 - mae: 6993.5498\n",
      "Epoch 171/200\n",
      "34/34 [==============================] - 0s 319us/step - loss: 7084.8989 - mae: 7084.8989\n",
      "Epoch 172/200\n",
      "34/34 [==============================] - 0s 314us/step - loss: 6877.3311 - mae: 6877.3311\n",
      "Epoch 173/200\n",
      "34/34 [==============================] - 0s 324us/step - loss: 6682.0034 - mae: 6682.0034\n",
      "Epoch 174/200\n",
      "34/34 [==============================] - 0s 305us/step - loss: 6855.0459 - mae: 6855.0459\n",
      "Epoch 175/200\n",
      "34/34 [==============================] - 0s 313us/step - loss: 6863.7290 - mae: 6863.7290\n",
      "Epoch 176/200\n",
      "34/34 [==============================] - 0s 299us/step - loss: 6741.0747 - mae: 6741.0747\n",
      "Epoch 177/200\n",
      "34/34 [==============================] - 0s 309us/step - loss: 6736.9531 - mae: 6736.9531\n",
      "Epoch 178/200\n",
      "34/34 [==============================] - 0s 311us/step - loss: 7050.9053 - mae: 7050.9053\n",
      "Epoch 179/200\n",
      "34/34 [==============================] - 0s 320us/step - loss: 6742.1997 - mae: 6742.1997\n",
      "Epoch 180/200\n",
      "34/34 [==============================] - 0s 314us/step - loss: 7008.8716 - mae: 7008.8716\n",
      "Epoch 181/200\n",
      "34/34 [==============================] - 0s 318us/step - loss: 6747.6025 - mae: 6747.6025\n",
      "Epoch 182/200\n",
      "34/34 [==============================] - 0s 316us/step - loss: 6760.2949 - mae: 6760.2949\n",
      "Epoch 183/200\n",
      "34/34 [==============================] - 0s 301us/step - loss: 6925.6489 - mae: 6925.6489\n",
      "Epoch 184/200\n",
      "34/34 [==============================] - 0s 310us/step - loss: 6822.5376 - mae: 6822.5376\n",
      "Epoch 185/200\n",
      "34/34 [==============================] - 0s 318us/step - loss: 6774.1567 - mae: 6774.1567\n",
      "Epoch 186/200\n",
      "34/34 [==============================] - 0s 297us/step - loss: 7022.3022 - mae: 7022.3022\n",
      "Epoch 187/200\n",
      "34/34 [==============================] - 0s 321us/step - loss: 6684.6733 - mae: 6684.6733\n",
      "Epoch 188/200\n",
      "34/34 [==============================] - 0s 313us/step - loss: 6565.4321 - mae: 6565.4321\n",
      "Epoch 189/200\n",
      "34/34 [==============================] - 0s 330us/step - loss: 6656.2417 - mae: 6656.2417\n",
      "Epoch 190/200\n",
      "34/34 [==============================] - 0s 314us/step - loss: 6434.9102 - mae: 6434.9102\n",
      "Epoch 191/200\n",
      "34/34 [==============================] - 0s 310us/step - loss: 6884.7021 - mae: 6884.7021\n",
      "Epoch 192/200\n",
      "34/34 [==============================] - 0s 314us/step - loss: 7018.8345 - mae: 7018.8345\n",
      "Epoch 193/200\n",
      "34/34 [==============================] - 0s 313us/step - loss: 6942.6675 - mae: 6942.6675\n",
      "Epoch 194/200\n",
      "34/34 [==============================] - 0s 318us/step - loss: 6889.9595 - mae: 6889.9595\n",
      "Epoch 195/200\n",
      "34/34 [==============================] - 0s 304us/step - loss: 6492.3271 - mae: 6492.3271\n",
      "Epoch 196/200\n",
      "34/34 [==============================] - 0s 307us/step - loss: 6625.6436 - mae: 6625.6436\n",
      "Epoch 197/200\n",
      "34/34 [==============================] - 0s 310us/step - loss: 6657.0093 - mae: 6657.0093\n",
      "Epoch 198/200\n",
      "34/34 [==============================] - 0s 303us/step - loss: 6760.9907 - mae: 6760.9907\n",
      "Epoch 199/200\n",
      "34/34 [==============================] - 0s 294us/step - loss: 6763.7891 - mae: 6763.7891\n",
      "Epoch 200/200\n",
      "34/34 [==============================] - 0s 308us/step - loss: 6786.8262 - mae: 6786.8262\n"
     ]
    }
   ],
   "source": [
    "tf.random.set_seed(42)\n",
    "\n",
    "model = tf.keras.Sequential([\n",
    "    tf.keras.layers.Dense(10, activation=\"relu\"),\n",
    "    tf.keras.layers.Dense(1)\n",
    "])\n",
    "\n",
    "model.compile(loss=tf.keras.losses.mae,\n",
    "              optimizer=tf.keras.optimizers.SGD(),\n",
    "              metrics=[\"mae\"])\n",
    "\n",
    "history = model.fit(X_train,y_train,epochs=200)"
   ],
   "metadata": {
    "collapsed": false,
    "ExecuteTime": {
     "end_time": "2024-11-28T15:59:22.425901Z",
     "start_time": "2024-11-28T15:59:19.905815Z"
    }
   },
   "id": "f6a5379c2815b2df",
   "execution_count": 76
  },
  {
   "cell_type": "code",
   "outputs": [
    {
     "name": "stdout",
     "output_type": "stream",
     "text": [
      "9/9 [==============================] - 0s 462us/step - loss: 6025.5693 - mae: 6025.5693\n"
     ]
    },
    {
     "data": {
      "text/plain": "[6025.5693359375, 6025.5693359375]"
     },
     "execution_count": 77,
     "metadata": {},
     "output_type": "execute_result"
    }
   ],
   "source": [
    "model.evaluate(X_test, y_test)"
   ],
   "metadata": {
    "collapsed": false,
    "ExecuteTime": {
     "end_time": "2024-11-28T15:59:23.050962Z",
     "start_time": "2024-11-28T15:59:22.988683Z"
    }
   },
   "id": "afb3736ba624a5e8",
   "execution_count": 77
  },
  {
   "cell_type": "code",
   "outputs": [
    {
     "data": {
      "text/plain": "Text(0.5, 0, 'epochs')"
     },
     "execution_count": 80,
     "metadata": {},
     "output_type": "execute_result"
    },
    {
     "data": {
      "text/plain": "<Figure size 640x480 with 1 Axes>",
      "image/png": "[encoded data removed]"
     },
     "metadata": {},
     "output_type": "display_data"
    }
   ],
   "source": [
    "pd.DataFrame(history.history).plot()\n",
    "plt.ylabel(\"loss\")\n",
    "plt.xlabel(\"epochs\")"
   ],
   "metadata": {
    "collapsed": false,
    "ExecuteTime": {
     "end_time": "2024-11-28T16:00:30.731365Z",
     "start_time": "2024-11-28T16:00:30.650352Z"
    }
   },
   "id": "4470e1705a616477",
   "execution_count": 80
  },
  {
   "cell_type": "markdown",
   "source": [
    "# Preprocessing Data"
   ],
   "metadata": {
    "collapsed": false
   },
   "id": "dbb07f1e2a528ec0"
  },
  {
   "cell_type": "code",
   "outputs": [],
   "source": [],
   "metadata": {
    "collapsed": false
   },
   "id": "c7b71d9c03178e33"
  }
 ],
 "metadata": {
  "kernelspec": {
   "display_name": "Python 3",
   "language": "python",
   "name": "python3"
  },
  "language_info": {
   "codemirror_mode": {
    "name": "ipython",
    "version": 2
   },
   "file_extension": ".py",
   "mimetype": "text/x-python",
   "name": "python",
   "nbconvert_exporter": "python",
   "pygments_lexer": "ipython2",
   "version": "2.7.6"
  }
 },
 "nbformat": 4,
 "nbformat_minor": 5
}
